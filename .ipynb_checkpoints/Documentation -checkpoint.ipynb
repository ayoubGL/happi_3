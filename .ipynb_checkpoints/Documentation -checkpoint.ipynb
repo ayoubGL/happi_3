{
 "cells": [
  {
   "cell_type": "markdown",
   "metadata": {},
   "source": [
    "# This document describe in few commands how to starting using this api in your local computer"
   ]
  },
  {
   "cell_type": "markdown",
   "metadata": {},
   "source": [
    "## Docker database configuration"
   ]
  },
  {
   "cell_type": "markdown",
   "metadata": {},
   "source": [
    "step 0: __After the repositories downoladed unzip it and open a terminal in the extracted folder__  <br>\n",
    "\n",
    "step 1: __Install docker in ubuntu and pull a mysql image__  <br>\n",
    " after the installation of docker on your local machine, pull the latest MYSQl image into it. [docker documentations](https://docs.docker.com/) <br> <br>\n",
    " \n",
    "step 2: __create docker container to hold the database__\n",
    "> in your teminal : <br>\n",
    "  $ <span style=\"color:blue\"> docker run --name=api_database -e MYSQL_ROOT_PASSWORD=Password -p 3306:3306 -d mysql</span> <br>\n",
    "  \n",
    "step 3: __create and migrate the database to docker container__ <br>\n",
    "connect to mysql container : \n",
    ">$ <span style=\"color:blue\"> docker exec -it api_database mysql -uroot -pPassword</span> <br>\n",
    "\n",
    "create database inside MYSQL container: <br>\n",
    ">mysql> <span style=\"color:red\">CREATE DATABASES api_database; </span><br>\n",
    "\tmysql> <span style=\"color:red\"> EXIT;</span><br>\n",
    "\n",
    "step 3: __migrate the dump database  into mysql container__ :<br>\n",
    ">$ <span style=\"color:blue\"> docker exec -i api_database mysql -uroot -pPassword api_database < api_database.sql</span> <br>"
   ]
  },
  {
   "cell_type": "markdown",
   "metadata": {},
   "source": [
    "## Install python requirment and lunch the api"
   ]
  },
  {
   "cell_type": "markdown",
   "metadata": {},
   "source": [
    "__Python and Django Configurati on__<br>\n",
    "For the python and Django configuration: <br>\n",
    "Open terminal in extracted folder :<br>\n",
    ">$ <span style=\"color:blue\"> chmod +x djanog_conf.sh</span> <br>\n",
    "\n",
    "> $ <span style=\"color:blue\">  ./django_conf.sh  </span>"
   ]
  },
  {
   "cell_type": "markdown",
   "metadata": {},
   "source": [
    "Finally visit  (http://localhost:8000)"
   ]
  },
  {
   "cell_type": "markdown",
   "metadata": {},
   "source": [
    "<img src=\"./homepage.png\">"
   ]
  },
  {
   "cell_type": "markdown",
   "metadata": {},
   "source": [
    "#### Illustarations :"
   ]
  },
  {
   "cell_type": "markdown",
   "metadata": {},
   "source": [
    "Get all the information about the accidents, 5 accident per page\n",
    "<img src=\"./accedient_data.png\">"
   ]
  },
  {
   "cell_type": "markdown",
   "metadata": {},
   "source": [
    "Get all the information about the accident 201800000001,  and we can edit it\n",
    "<img src=\"./accedient_201800000001.png\">"
   ]
  },
  {
   "cell_type": "markdown",
   "metadata": {},
   "source": [
    "Interact with the api using Termianl \n",
    ">$ <span style=\"color:blue\"> curl -v localhost:8000/accident/201800000001/ </span>\n",
    "\n",
    "<img src=\"./terminal_test.png\">"
   ]
  },
  {
   "cell_type": "code",
   "execution_count": null,
   "metadata": {},
   "outputs": [],
   "source": []
  }
 ],
 "metadata": {
  "kernelspec": {
   "display_name": "Python 3",
   "language": "python",
   "name": "python3"
  },
  "language_info": {
   "codemirror_mode": {
    "name": "ipython",
    "version": 3
   },
   "file_extension": ".py",
   "mimetype": "text/x-python",
   "name": "python",
   "nbconvert_exporter": "python",
   "pygments_lexer": "ipython3",
   "version": "3.6.8"
  }
 },
 "nbformat": 4,
 "nbformat_minor": 2
}
